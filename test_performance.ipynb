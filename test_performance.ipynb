{
 "cells": [
  {
   "cell_type": "code",
   "execution_count": 1,
   "metadata": {},
   "outputs": [],
   "source": [
    "import pandas as pd\n",
    "from sklearn.metrics import f1_score\n",
    "from sklearn.metrics import accuracy_score\n",
    "import numpy as np"
   ]
  },
  {
   "cell_type": "code",
   "execution_count": 8,
   "metadata": {},
   "outputs": [],
   "source": [
    "test_ok = pd.read_csv(\"./example/test_prediction/hvae_test_ok.csv\")\n",
    "test_ng = pd.read_csv(\"./example/test_prediction/hvae_test_ng.csv\")"
   ]
  },
  {
   "cell_type": "code",
   "execution_count": 9,
   "metadata": {},
   "outputs": [],
   "source": [
    "ground_truth = np.array([0] * 50 + [1] * 50)"
   ]
  },
  {
   "cell_type": "code",
   "execution_count": 10,
   "metadata": {},
   "outputs": [],
   "source": [
    "best_f1 = 0\n",
    "best_acc = 0\n",
    "\n",
    "for threshold in test_ng['Median']:\n",
    "    ok_predict = test_ok['Median'].copy()\n",
    "    ng_predict = test_ng['Median'].copy()\n",
    "    ok_predict[ok_predict < threshold] = 0\n",
    "    ok_predict[ok_predict >= threshold] = 1\n",
    "    ng_predict[ng_predict < threshold] = 0\n",
    "    ng_predict[ng_predict >= threshold] = 1\n",
    "    predict = np.array(list(ok_predict) + list(ng_predict))\n",
    "\n",
    "    f1 = f1_score(ground_truth, predict)\n",
    "    acc = accuracy_score(ground_truth, predict)\n",
    "\n",
    "    if acc > best_acc:\n",
    "        best_threshold = threshold\n",
    "        best_f1 = f1\n",
    "        best_acc = acc"
   ]
  },
  {
   "cell_type": "code",
   "execution_count": 11,
   "metadata": {},
   "outputs": [
    {
     "name": "stdout",
     "output_type": "stream",
     "text": [
      "Best Threshold: 55.285484\n",
      "Best Accuracy: 0.56\n",
      "Best F1 Score: 0.26666666666666666\n"
     ]
    }
   ],
   "source": [
    "print(\"Best Threshold: {}\".format(best_threshold))\n",
    "print(\"Best Accuracy: {}\".format(best_acc))\n",
    "print(\"Best F1 Score: {}\".format(best_f1))\n"
   ]
  },
  {
   "cell_type": "code",
   "execution_count": 7,
   "metadata": {},
   "outputs": [],
   "source": [
    "### Baseline:\n",
    "# Best Threshold: 8.751331\n",
    "# Best Accuracy: 0.62\n",
    "# Best F1 Score: 0.7076923076923077"
   ]
  },
  {
   "cell_type": "code",
   "execution_count": null,
   "metadata": {},
   "outputs": [],
   "source": [
    "### HVAE\n",
    "# Best Threshold: 55.285484\n",
    "# Best Accuracy: 0.56\n",
    "# Best F1 Score: 0.26666666666666666"
   ]
  }
 ],
 "metadata": {
  "interpreter": {
   "hash": "4d4df077a2d77b6901497b852d021a6adbc6c05eef8db3dd97e21992da26b7f1"
  },
  "kernelspec": {
   "display_name": "Python 3.8.13 ('hvae')",
   "language": "python",
   "name": "python3"
  },
  "language_info": {
   "codemirror_mode": {
    "name": "ipython",
    "version": 3
   },
   "file_extension": ".py",
   "mimetype": "text/x-python",
   "name": "python",
   "nbconvert_exporter": "python",
   "pygments_lexer": "ipython3",
   "version": "3.8.13"
  },
  "orig_nbformat": 4
 },
 "nbformat": 4,
 "nbformat_minor": 2
}
